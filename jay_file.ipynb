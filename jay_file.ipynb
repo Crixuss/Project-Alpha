{
 "cells": [
  {
   "cell_type": "code",
   "execution_count": 35,
   "metadata": {},
   "outputs": [
    {
     "data": {
      "text/plain": [
       "us    65114\n",
       "ca     3000\n",
       "gb     1905\n",
       "au      538\n",
       "de      105\n",
       "Name: country, dtype: int64"
      ]
     },
     "execution_count": 35,
     "metadata": {},
     "output_type": "execute_result"
    }
   ],
   "source": [
    "#import file as csv\n",
    "import os\n",
    "import pandas as pd\n",
    "import matplotlib.pyplot as plt\n",
    "import numpy as np\n",
    "file_path = \"Resources/ufo_sightings_scrubbed.csv\"\n",
    "ufo_file = pd.read_csv(file_path)\n",
    "\n",
    "ufo_file.head()\n",
    "ufo_file[\"country\"].value_counts()"
   ]
  },
  {
   "cell_type": "code",
   "execution_count": 36,
   "metadata": {},
   "outputs": [
    {
     "name": "stdout",
     "output_type": "stream",
     "text": [
      "['cylinder' 'circle' 'light' 'sphere' 'disk' 'fireball' 'unknown' 'oval'\n",
      " 'other' 'rectangle' 'chevron' 'formation' 'triangle' 'cigar' 'delta'\n",
      " 'changing' 'diamond' 'flash' 'egg' 'teardrop' 'cone' 'cross' 'pyramid'\n",
      " 'round' 'flare' 'hexagon' 'crescent' 'changed']\n"
     ]
    }
   ],
   "source": [
    "#only look at US for country\n",
    "\n",
    "ufo_file = ufo_file.dropna(how='any')\n",
    "\n",
    "#ufo_file[\"country\"].value_counts()\n",
    "\n",
    "ufo_file = ufo_file.loc[ufo_file['country']== 'us',:]\n",
    "\n",
    "ufo_file[\"country\"].value_counts()\n",
    "\n",
    "unique_shapes= ufo_file['shape'].unique()\n",
    "print(unique_shapes)"
   ]
  },
  {
   "cell_type": "code",
   "execution_count": 37,
   "metadata": {},
   "outputs": [],
   "source": [
    "ufo_file['shape']= ufo_file['shape'].replace({'light': 'light','fireball': 'light',\\\n",
    "                                              'flash': 'light', 'flare': 'light',\\\n",
    "                                              'triangle': 'triangular','diamond': 'triangular',\\\n",
    "                                              'cone': 'triangular','delta': 'triangular',\\\n",
    "                                              'pyramid': 'triangular','circle': 'circular',\\\n",
    "                                              'sphere': 'circular','disk': 'circular',\\\n",
    "                                              'oval':'circular','cigar': 'circular',\\\n",
    "                                              'round': 'circular','changed': 'changing', 'crescent': 'other',\\\n",
    "                                             'hexagon': 'other', 'egg': 'egg/teardrop', 'teardrop':'egg/teardrop', 'cross': 'other',\n",
    "                                             'chevron': 'other'})"
   ]
  },
  {
   "cell_type": "code",
   "execution_count": 38,
   "metadata": {},
   "outputs": [
    {
     "name": "stdout",
     "output_type": "stream",
     "text": [
      "light           19682\n",
      "circular        19259\n",
      "triangular       7730\n",
      "other            5471\n",
      "unknown          4567\n",
      "formation        1990\n",
      "changing         1585\n",
      "egg/teardrop     1173\n",
      "rectangle        1070\n",
      "cylinder         1026\n",
      "Name: shape, dtype: int64\n"
     ]
    }
   ],
   "source": [
    "unique_shapes= ufo_file['shape'].unique()\n",
    "# print(unique_shapes)\n",
    "shapes=ufo_file['shape'].value_counts()\n",
    "print(shapes)"
   ]
  },
  {
   "cell_type": "code",
   "execution_count": 39,
   "metadata": {},
   "outputs": [],
   "source": [
    "# shape_pie= shapes.plot(kind='pie')\n"
   ]
  },
  {
   "cell_type": "code",
   "execution_count": 40,
   "metadata": {},
   "outputs": [
    {
     "data": {
      "text/plain": [
       "Text(0.5, 1.0, 'UFO Shapes')"
      ]
     },
     "execution_count": 40,
     "metadata": {},
     "output_type": "execute_result"
    },
    {
     "data": {
      "image/png": "[encoded data removed]",
      "text/plain": [
       "<Figure size 432x288 with 1 Axes>"
      ]
     },
     "metadata": {},
     "output_type": "display_data"
    }
   ],
   "source": [
    "plt.pie(shapes, labels=['light', 'circular', 'triangular',\\\n",
    "                         'other', 'unknown', 'formation', 'changing', 'egg/teardrop', 'rectangle', 'cylinder' ])\n",
    "plt.title('UFO Shapes')"
   ]
  },
  {
   "cell_type": "code",
   "execution_count": null,
   "metadata": {},
   "outputs": [],
   "source": []
  }
 ],
 "metadata": {
  "kernelspec": {
   "display_name": "Python 3",
   "language": "python",
   "name": "python3"
  },
  "language_info": {
   "codemirror_mode": {
    "name": "ipython",
    "version": 3
   },
   "file_extension": ".py",
   "mimetype": "text/x-python",
   "name": "python",
   "nbconvert_exporter": "python",
   "pygments_lexer": "ipython3",
   "version": "3.7.3"
  }
 },
 "nbformat": 4,
 "nbformat_minor": 2
}
