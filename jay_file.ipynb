{
 "cells": [
  {
   "cell_type": "code",
   "execution_count": 43,
   "metadata": {},
   "outputs": [
    {
     "name": "stderr",
     "output_type": "stream",
     "text": [
      "C:\\ProgramData\\Anaconda3\\envs\\PythonData\\lib\\site-packages\\IPython\\core\\interactiveshell.py:3049: DtypeWarning: Columns (5,9) have mixed types. Specify dtype option on import or set low_memory=False.\n",
      "  interactivity=interactivity, compiler=compiler, result=result)\n"
     ]
    },
    {
     "data": {
      "text/plain": [
       "us    65114\n",
       "ca     3000\n",
       "gb     1905\n",
       "au      538\n",
       "de      105\n",
       "Name: country, dtype: int64"
      ]
     },
     "execution_count": 43,
     "metadata": {},
     "output_type": "execute_result"
    }
   ],
   "source": [
    "#import file as csv\n",
    "import os\n",
    "import pandas as pd\n",
    "\n",
    "file_path = \"Resources/ufo_sightings_scrubbed.csv\"\n",
    "ufo_file = pd.read_csv(file_path)\n",
    "\n",
    "ufo_file.head()\n",
    "ufo_file[\"country\"].value_counts()"
   ]
  },
  {
   "cell_type": "code",
   "execution_count": 44,
   "metadata": {},
   "outputs": [
    {
     "data": {
      "text/plain": [
       "us    63553\n",
       "Name: country, dtype: int64"
      ]
     },
     "execution_count": 44,
     "metadata": {},
     "output_type": "execute_result"
    }
   ],
   "source": [
    "#only look at US for country\n",
    "\n",
    "ufo_file = ufo_file.dropna(how='any')\n",
    "\n",
    "#ufo_file[\"country\"].value_counts()\n",
    "\n",
    "ufo_file = ufo_file.loc[ufo_file['country']== 'us',:]\n",
    "\n",
    "ufo_file[\"country\"].value_counts()\n",
    "\n",
    "# unique_shapes= ufo_file['shape'].unique()\n",
    "# # print(unique_shapes)"
   ]
  },
  {
   "cell_type": "code",
   "execution_count": 61,
   "metadata": {},
   "outputs": [],
   "source": [
    "ufo_file['shape']= ufo_file['shape'].replace({'light': 'light/fireball/flash','fireball': 'light/fireball/flash',\\\n",
    "                                              'flash': 'light/fireball/flash', 'flare': 'light/fireball/flash',\\\n",
    "                                              'triangle': 'triangle/diamond/cone','diamond': 'triangle/diamond/cone',\\\n",
    "                                              'cone': 'triangle/diamond/cone','delta': 'triangle/diamond/cone',\\\n",
    "                                              'pyramid': 'triangle/diamond/cone','circle': 'circle/sphere/disk/oval/cigar',\\\n",
    "                                              'sphere': 'circle/sphere/disk/oval/cigar','disk': 'circle/sphere/disk/oval/cigar',\\\n",
    "                                              'oval':'circle/sphere/disk/oval/cigar','cigar': 'circle/sphere/disk/oval/cigar',\\\n",
    "                                              'round': 'circle/sphere/disk/oval/cigar','changed': 'changing', 'crescent': 'other',\\\n",
    "                                             'hexagon': 'other', 'egg': 'egg/teardrop', 'teardrop':'egg/teardrop', 'cross': 'other',\n",
    "                                             'chevron': 'other'})"
   ]
  },
  {
   "cell_type": "code",
   "execution_count": 62,
   "metadata": {},
   "outputs": [
    {
     "name": "stdout",
     "output_type": "stream",
     "text": [
      "light/fireball/flash             19682\n",
      "circle/sphere/disk/oval/cigar    19259\n",
      "triangle/diamond/cone             7730\n",
      "other                             5471\n",
      "unknown                           4567\n",
      "formation                         1990\n",
      "changing                          1585\n",
      "egg/teardrop                      1173\n",
      "rectangle                         1070\n",
      "cylinder                          1026\n",
      "Name: shape, dtype: int64\n"
     ]
    }
   ],
   "source": [
    "unique_shapes= ufo_file['shape'].unique()\n",
    "# print(unique_shapes)\n",
    "shapes=ufo_file['shape'].value_counts()\n",
    "print(shapes)"
   ]
  },
  {
   "cell_type": "code",
   "execution_count": 63,
   "metadata": {},
   "outputs": [
    {
     "data": {
      "image/png": "[encoded data removed]",
      "text/plain": [
       "<Figure size 432x288 with 1 Axes>"
      ]
     },
     "metadata": {},
     "output_type": "display_data"
    }
   ],
   "source": [
    "shape_pie= shapes.plot(kind='pie')\n"
   ]
  },
  {
   "cell_type": "code",
   "execution_count": null,
   "metadata": {},
   "outputs": [],
   "source": []
  }
 ],
 "metadata": {
  "kernelspec": {
   "display_name": "Python 3",
   "language": "python",
   "name": "python3"
  },
  "language_info": {
   "codemirror_mode": {
    "name": "ipython",
    "version": 3
   },
   "file_extension": ".py",
   "mimetype": "text/x-python",
   "name": "python",
   "nbconvert_exporter": "python",
   "pygments_lexer": "ipython3",
   "version": "3.7.3"
  }
 },
 "nbformat": 4,
 "nbformat_minor": 2
}
