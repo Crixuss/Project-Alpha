{
 "cells": [
  {
   "cell_type": "markdown",
   "metadata": {},
   "source": [
    "# UFO Data Cleaning"
   ]
  },
  {
   "cell_type": "code",
   "execution_count": null,
   "metadata": {},
   "outputs": [],
   "source": [
    "#import file as csv\n",
    "import os\n",
    "import pandas as pd\n",
    "\n",
    "file_path = \"Resources/ufo_sightings_scrubbed.csv\"\n",
    "ufo_file = pd.read_csv(file_path)\n",
    "\n",
    "ufo_file.head()\n",
    "ufo_file[\"country\"].value_counts()"
   ]
  },
  {
   "cell_type": "code",
   "execution_count": null,
   "metadata": {},
   "outputs": [],
   "source": [
    "#only look at US for country\n",
    "\n",
    "ufo_file = ufo_file.dropna(how='any')\n",
    "\n",
    "#ufo_file[\"country\"].value_counts()\n",
    "\n",
    "ufo_file = ufo_file.loc[ufo_file['country']== 'us',:]\n",
    "\n",
    "ufo_file[\"country\"].value_counts()\n"
   ]
  },
  {
   "cell_type": "code",
   "execution_count": null,
   "metadata": {},
   "outputs": [],
   "source": [
    "# ufo_file.head()"
   ]
  },
  {
   "cell_type": "code",
   "execution_count": null,
   "metadata": {},
   "outputs": [],
   "source": [
    "ufo_file.to_csv(\"Resources/ufo_clean.csv\")"
   ]
  },
  {
   "cell_type": "markdown",
   "metadata": {},
   "source": [
    "# Military Base Data Cleaning"
   ]
  },
  {
   "cell_type": "code",
   "execution_count": null,
   "metadata": {},
   "outputs": [],
   "source": [
    "import os\n",
    "import pandas as pd\n",
    "\n",
    "file_path = \"Resources/Military_Bases.csv\"\n",
    "military_file = pd.read_csv(file_path)"
   ]
  },
  {
   "cell_type": "code",
   "execution_count": null,
   "metadata": {},
   "outputs": [],
   "source": [
    "military_file['COMPONENT'].value_counts()"
   ]
  },
  {
   "cell_type": "code",
   "execution_count": null,
   "metadata": {},
   "outputs": [],
   "source": [
    "military_file=military_file.loc[military_file['COUNTRY']=='United States',:]"
   ]
  },
  {
   "cell_type": "code",
   "execution_count": null,
   "metadata": {},
   "outputs": [],
   "source": [
    "military_file['COUNTRY'].value_counts()"
   ]
  },
  {
   "cell_type": "code",
   "execution_count": null,
   "metadata": {},
   "outputs": [],
   "source": [
    "military_file.to_csv('Resources/Military_Clean.csv')"
   ]
  },
  {
   "cell_type": "markdown",
   "metadata": {},
   "source": [
    "# Duration v. State Bar Charts"
   ]
  },
  {
   "cell_type": "code",
   "execution_count": null,
   "metadata": {},
   "outputs": [],
   "source": [
    "%matplotlib notebook"
   ]
  },
  {
   "cell_type": "code",
   "execution_count": null,
   "metadata": {},
   "outputs": [],
   "source": [
    "import os\n",
    "import pandas as pd\n",
    "import matplotlib.pyplot as plt\n",
    "from datetime import datetime\n",
    "import numpy as np"
   ]
  },
  {
   "cell_type": "code",
   "execution_count": null,
   "metadata": {},
   "outputs": [],
   "source": [
    "file_path = (\"Resources/ufo_clean.csv\")\n",
    "df = pd.read_csv(file_path)\n",
    "# df.head()"
   ]
  },
  {
   "cell_type": "code",
   "execution_count": null,
   "metadata": {},
   "outputs": [],
   "source": [
    "ufo_df = df.rename(columns = {\"duration/n(seconds)\":\"duration (seconds)\"})\n",
    "\n",
    "ufo_df = ufo_df[[\"state\",\"duration (seconds)\"]]\n",
    "# ufo_df.head()"
   ]
  },
  {
   "cell_type": "code",
   "execution_count": null,
   "metadata": {},
   "outputs": [],
   "source": [
    "ufo_state = ufo_df.groupby(\"state\")[\"duration (seconds)\"].median()\n",
    "ufo_state = ufo_state.reset_index()\n",
    "ufo_state = ufo_state.rename(columns = {\"duration (seconds)\":\"median duration (seconds)\"})\n",
    "ufo_state[\"median duration (seconds)\"] = ufo_state[\"median duration (seconds)\"]\n",
    "ufo_state[\"median duration (mins)\"] = (ufo_state[\"median duration (seconds)\"]/60)\n",
    "# ufo_state.head()"
   ]
  },
  {
   "cell_type": "code",
   "execution_count": null,
   "metadata": {},
   "outputs": [],
   "source": [
    "top_states = ufo_state.nlargest(10, \"median duration (seconds)\")\n",
    "top_states[\"state\"]= top_states[\"state\"].str.upper()\n",
    "# top_states.head()"
   ]
  },
  {
   "cell_type": "code",
   "execution_count": null,
   "metadata": {},
   "outputs": [],
   "source": [
    "duration = top_states[\"median duration (mins)\"]\n",
    "\n",
    "states = top_states[\"state\"]\n",
    "\n",
    "\n",
    "plt.figure()\n",
    "plt.barh(states, duration,color=\"chartreuse\",edgecolor=\"black\")\n",
    "plt.yticks(states, states)\n",
    "plt.xticks([0, 1, 2, 3, 4, 5, 6, 7])\n",
    "plt.xlabel(\"Median Duration of Sighting (Minutes)\")\n",
    "plt.ylabel(\"State Abbrev.\")\n",
    "plt.title(\"States with the Longest Average UFO Sightings\")\n",
    "plt.savefig(\"Resources/bar_chart_states.png\")"
   ]
  },
  {
   "cell_type": "code",
   "execution_count": null,
   "metadata": {},
   "outputs": [],
   "source": [
    "bottom_states = ufo_state.nsmallest(10, \"median duration (seconds)\")\n",
    "bottom_states[\"state\"]= bottom_states[\"state\"].str.upper()\n",
    "# bottom_states.head()"
   ]
  },
  {
   "cell_type": "code",
   "execution_count": null,
   "metadata": {},
   "outputs": [],
   "source": [
    "duration = bottom_states[\"median duration (mins)\"]\n",
    "\n",
    "states = bottom_states[\"state\"]\n",
    "\n",
    "\n",
    "plt.figure()\n",
    "plt.barh(states, duration,color=\"chartreuse\",edgecolor=\"black\")\n",
    "plt.yticks(states, states)\n",
    "plt.xticks([0, 1, 2, 3, 4, 5, 6, 7])\n",
    "plt.xlabel(\"Median Duration of Sighting (Minutes)\")\n",
    "plt.ylabel(\"State Abbrev.\")\n",
    "plt.title(\"States with the Shortest Average UFO Sightings\")\n",
    "plt.savefig(\"Resources/bar_chart_bottom_states.png\")"
   ]
  },
  {
   "cell_type": "markdown",
   "metadata": {},
   "source": [
    "# UFO Shape Pie Chart"
   ]
  },
  {
   "cell_type": "code",
   "execution_count": null,
   "metadata": {},
   "outputs": [],
   "source": [
    "import os\n",
    "import pandas as pd\n",
    "import matplotlib.pyplot as plt\n",
    "import numpy as np\n",
    "file_path = \"Resources/ufo_sightings_scrubbed.csv\"\n",
    "ufo_file = pd.read_csv(file_path)\n",
    "\n",
    "ufo_file.head()\n",
    "ufo_file[\"country\"].value_counts()"
   ]
  },
  {
   "cell_type": "code",
   "execution_count": null,
   "metadata": {},
   "outputs": [],
   "source": [
    "ufo_file = ufo_file.dropna(how='any')\n",
    "\n",
    "\n",
    "\n",
    "ufo_file = ufo_file.loc[ufo_file['country']== 'us',:]\n",
    "\n",
    "ufo_file[\"country\"].value_counts()\n",
    "\n",
    "unique_shapes= ufo_file['shape'].unique()\n",
    "print(unique_shapes)"
   ]
  },
  {
   "cell_type": "code",
   "execution_count": null,
   "metadata": {},
   "outputs": [],
   "source": [
    "ufo_file['shape']= ufo_file['shape'].replace({'light': 'light','fireball': 'light',\\\n",
    "                                              'flash': 'light', 'flare': 'light',\\\n",
    "                                              'triangle': 'triangular','diamond': 'triangular',\\\n",
    "                                              'cone': 'triangular','delta': 'triangular',\\\n",
    "                                              'pyramid': 'triangular','circle': 'circular',\\\n",
    "                                              'sphere': 'circular','disk': 'circular',\\\n",
    "                                              'oval':'circular','cigar': 'circular',\\\n",
    "                                              'round': 'circular','changed': 'changing', 'crescent': 'other',\\\n",
    "                                             'hexagon': 'other', 'egg': 'egg/teardrop', 'teardrop':'egg/teardrop', 'cross': 'other',\n",
    "                                             'chevron': 'other'})"
   ]
  },
  {
   "cell_type": "code",
   "execution_count": null,
   "metadata": {},
   "outputs": [],
   "source": [
    "unique_shapes= ufo_file['shape'].unique()\n",
    "# print(unique_shapes)\n",
    "shapes=ufo_file['shape'].value_counts()\n",
    "print(shapes)"
   ]
  },
  {
   "cell_type": "code",
   "execution_count": null,
   "metadata": {},
   "outputs": [],
   "source": [
    "plt.pie(shapes, explode = (0.1,0.1,0.1,0,0,0,0,0,0,0), labels=['Light', 'Circular', 'Triangular',\\\n",
    "                         'Other', 'Unknown', 'Formation', 'Changing', 'Egg/Teardrop', 'Rectangle', 'Cylinder' ])\n",
    "plt.title('UFO Shapes')\n",
    "\n",
    "plt.savefig('UFO_Shapes_Pie_Chart')\n",
    "plt.show()"
   ]
  },
  {
   "cell_type": "markdown",
   "metadata": {},
   "source": [
    "# Heatmap"
   ]
  },
  {
   "cell_type": "code",
   "execution_count": null,
   "metadata": {},
   "outputs": [],
   "source": [
    "import numpy as np\n",
    "import pandas as pd\n",
    "import matplotlib.pyplot as plt\n",
    "import requests\n",
    "import time\n",
    "from config import gkey\n",
    "import gmaps\n",
    "gmaps.configure(api_key=gkey)"
   ]
  },
  {
   "cell_type": "code",
   "execution_count": null,
   "metadata": {},
   "outputs": [],
   "source": [
    "file_path = (\"Resources/ufo_clean.csv\")\n",
    "df = pd.read_csv(file_path)\n",
    "df = df.rename(columns = {\"latitude\":\"lat\"})\n",
    "df = df.rename(columns={ df.columns[-1]: \"lng\" })\n",
    "df.head()"
   ]
  },
  {
   "cell_type": "code",
   "execution_count": null,
   "metadata": {},
   "outputs": [],
   "source": [
    "lat_lon= df[['lat', 'lng']]\n",
    "locations = lat_lon.astype(float)"
   ]
  },
  {
   "cell_type": "code",
   "execution_count": null,
   "metadata": {},
   "outputs": [],
   "source": [
    "fig = gmaps.figure()\n",
    "\n",
    "heat_layer = gmaps.heatmap_layer(locations, dissipating=False, max_intensity=0, point_radius=1)\n",
    "fig.add_layer(heat_layer)\n",
    "fig"
   ]
  },
  {
   "cell_type": "markdown",
   "metadata": {},
   "source": [
    "# Military Base v. UFO Sightings Scatter"
   ]
  },
  {
   "cell_type": "code",
   "execution_count": null,
   "metadata": {},
   "outputs": [],
   "source": [
    "%matplotlib notebook"
   ]
  },
  {
   "cell_type": "code",
   "execution_count": null,
   "metadata": {},
   "outputs": [],
   "source": [
    "import matplotlib.pyplot as plt\n",
    "import numpy as np\n",
    "import pandas as pd\n",
    "from scipy.stats import linregress"
   ]
  },
  {
   "cell_type": "code",
   "execution_count": null,
   "metadata": {},
   "outputs": [],
   "source": [
    "scatterdata = pd.read_csv(\"scatterplot.csv\")\n",
    "scatterdata.drop(columns= 'Unnamed: 0')"
   ]
  },
  {
   "cell_type": "code",
   "execution_count": null,
   "metadata": {},
   "outputs": [],
   "source": [
    "(slope, intercept, _, _, _)= linregress(scatterdata['Frequency of Military'], scatterdata['Frequency of UFO'])\n",
    "\n",
    "fit = slope * scatterdata['Frequency of Military'] + intercept"
   ]
  },
  {
   "cell_type": "code",
   "execution_count": null,
   "metadata": {},
   "outputs": [],
   "source": [
    "fig, ax = plt.subplots()\n",
    "ax.plot(scatterdata['Frequency of Military'], scatterdata['Frequency of UFO'], linewidth=0, marker = 'o')\n",
    "ax.plot(scatterdata['Frequency of Military'], fit, 'b--')\n",
    "ax.set_xlabel(\"Frequency of Military Bases\")\n",
    "ax.set_ylabel(\"Frequency of UFO Sightings\")\n",
    "fig.suptitle(\"Military Base Location vs UFO Sightings\", fontsize=16, fontweight=\"bold\")"
   ]
  },
  {
   "cell_type": "markdown",
   "metadata": {},
   "source": [
    "# State Population v. UFO Sightings whisker"
   ]
  },
  {
   "cell_type": "code",
   "execution_count": null,
   "metadata": {},
   "outputs": [],
   "source": [
    "import os\n",
    "import pandas as pd\n",
    "import matplotlib.pyplot as plt\n",
    "from datetime import datetime\n",
    "import numpy as np\n",
    "import scipy.stats as stats"
   ]
  },
  {
   "cell_type": "code",
   "execution_count": null,
   "metadata": {},
   "outputs": [],
   "source": [
    "file_path = \"ufo_sightings_scrubbed.csv\"\n",
    "ufo_file = pd.read_csv(file_path)\n",
    "file_path2 = \"acs2017_census_tract_data.csv\"\n",
    "census_data = pd.read_csv(file_path2)\n",
    "ufo_file.head()\n",
    "file_path3 = \"UFO_Sighting_State_Population_data.csv\"\n",
    "combined_ufo_state_data = pd.read_csv(file_path3)"
   ]
  },
  {
   "cell_type": "code",
   "execution_count": null,
   "metadata": {},
   "outputs": [],
   "source": [
    "cities = ufo_file[ufo_file['country'] == 'us']\n",
    "# cities.head()"
   ]
  },
  {
   "cell_type": "code",
   "execution_count": null,
   "metadata": {},
   "outputs": [],
   "source": [
    "city_sightings = cities['city'].value_counts()\n",
    "city_sightings_df = pd.DataFrame(city_sightings)\n",
    "# city_sightings_df.head(20)"
   ]
  },
  {
   "cell_type": "code",
   "execution_count": null,
   "metadata": {},
   "outputs": [],
   "source": [
    "state_sightings = cities['state'].value_counts()\n",
    "state_sightings_df = pd.DataFrame(state_sightings)\n",
    "# state_sightings_df.head()"
   ]
  },
  {
   "cell_type": "code",
   "execution_count": null,
   "metadata": {},
   "outputs": [],
   "source": [
    "census_data.groupby('State').head()"
   ]
  },
  {
   "cell_type": "code",
   "execution_count": null,
   "metadata": {},
   "outputs": [],
   "source": [
    "census_state_population = census_data[['State', 'TotalPop']]\n",
    "census_state_population.head()"
   ]
  },
  {
   "cell_type": "code",
   "execution_count": null,
   "metadata": {},
   "outputs": [],
   "source": [
    "census_state_population_sum = census_state_population.groupby([\"State\"]).sum()\n",
    "census_state_population_sum.head()"
   ]
  },
  {
   "cell_type": "code",
   "execution_count": null,
   "metadata": {},
   "outputs": [],
   "source": [
    "combined_ufo_state_data.head()\n"
   ]
  },
  {
   "cell_type": "code",
   "execution_count": null,
   "metadata": {},
   "outputs": [],
   "source": [
    "combined_ufo_state_data_df = combined_ufo_state_data[['State','TotalPop','UFO Sightings']]\n",
    "combined_ufo_state_data_df.head()"
   ]
  },
  {
   "cell_type": "code",
   "execution_count": null,
   "metadata": {},
   "outputs": [],
   "source": [
    "sorted_combined_ufo_state_data_df = combined_ufo_state_data_df.sort_values('TotalPop')\n",
    "sorted_combined_ufo_state_data_df.head()"
   ]
  },
  {
   "cell_type": "code",
   "execution_count": null,
   "metadata": {},
   "outputs": [],
   "source": [
    "sorted_combined_ufo_state_data_df['Sightings per Pop'] = sorted_combined_ufo_state_data_df['UFO Sightings'] / sorted_combined_ufo_state_data_df['TotalPop'] \n",
    "sorted_combined_ufo_state_data_df['Sightings per Pop * 10K'] = sorted_combined_ufo_state_data_df['Sightings per Pop'] * 10000\n",
    "sorted_combined_ufo_state_data_df.head()"
   ]
  },
  {
   "cell_type": "code",
   "execution_count": null,
   "metadata": {},
   "outputs": [],
   "source": [
    "\n",
    "sorted_combined_ufo_state_data_df.sort_values('Sightings per Pop * 10K').head()"
   ]
  },
  {
   "cell_type": "code",
   "execution_count": null,
   "metadata": {},
   "outputs": [],
   "source": [
    "sorted_combined_ufo_state_data_df.sort_values('Sightings per Pop * 10K', ascending=False).head()"
   ]
  },
  {
   "cell_type": "code",
   "execution_count": null,
   "metadata": {},
   "outputs": [],
   "source": [
    "size_classification = [0, 4000000, 8000000, 40000000]\n",
    "size_labels = [\"Small\", \"Medium\", \"Large\"]\n",
    "sorted_combined_ufo_state_data_df['Size Classification'] = pd.cut(sorted_combined_ufo_state_data_df['TotalPop'], size_classification, labels=size_labels)"
   ]
  },
  {
   "cell_type": "code",
   "execution_count": null,
   "metadata": {},
   "outputs": [],
   "source": [
    "sorted_combined_ufo_state_data_df"
   ]
  },
  {
   "cell_type": "code",
   "execution_count": null,
   "metadata": {},
   "outputs": [],
   "source": [
    "size_group = sorted_combined_ufo_state_data_df.groupby('Size Classification')\n",
    "size_counts = size_group['Size Classification'].count()\n",
    "size_counts"
   ]
  },
  {
   "cell_type": "code",
   "execution_count": null,
   "metadata": {},
   "outputs": [],
   "source": [
    "sorted_combined_ufo_state_data_df['TotalPop'].astype('int')\n",
    "sorted_combined_ufo_state_data_df.boxplot('Sightings per Pop * 10K',by='Size Classification', figsize=(12, 8))"
   ]
  },
  {
   "cell_type": "code",
   "execution_count": null,
   "metadata": {},
   "outputs": [],
   "source": [
    "group1 = sorted_combined_ufo_state_data_df[sorted_combined_ufo_state_data_df['Size Classification'] == 'Small']['Sightings per Pop * 10K']\n",
    "group2 = sorted_combined_ufo_state_data_df[sorted_combined_ufo_state_data_df['Size Classification'] == 'Medium']['Sightings per Pop * 10K']\n",
    "group3 = sorted_combined_ufo_state_data_df[sorted_combined_ufo_state_data_df['Size Classification'] == 'Large']['Sightings per Pop * 10K']"
   ]
  },
  {
   "cell_type": "code",
   "execution_count": null,
   "metadata": {},
   "outputs": [],
   "source": [
    "stats.f_oneway(group1, group2, group3)"
   ]
  },
  {
   "cell_type": "markdown",
   "metadata": {},
   "source": [
    "# Line Chart"
   ]
  },
  {
   "cell_type": "code",
   "execution_count": null,
   "metadata": {},
   "outputs": [],
   "source": [
    "import os\n",
    "import pandas as pd\n",
    "import matplotlib.pyplot as plt\n",
    "from datetime import datetime\n",
    "import numpy as np\n",
    "\n",
    "file_path = \"Resources/ufo_sightings_scrubbed.csv\"\n",
    "ufo_file = pd.read_csv(file_path)\n",
    "ufo_file.head()"
   ]
  },
  {
   "cell_type": "code",
   "execution_count": null,
   "metadata": {},
   "outputs": [],
   "source": [
    "ufo_file = ufo_file.dropna(how='any')\n",
    "ufo_file = ufo_file.loc[ufo_file['country']== 'us',:]\n",
    "ufo_file[\"country\"].value_counts()\n",
    "ufo_file.head()"
   ]
  },
  {
   "cell_type": "code",
   "execution_count": null,
   "metadata": {},
   "outputs": [],
   "source": [
    "ufo_file.head()\n",
    "ufo_file[\"datetime\"].value_counts()"
   ]
  },
  {
   "cell_type": "code",
   "execution_count": null,
   "metadata": {},
   "outputs": [],
   "source": [
    "# split datetime column by \"/\"\n",
    "split_datetime = ufo_file[\"datetime\"].str.rsplit(\"/\", n=1, expand=True)\n",
    "# split year and time by \" \"\n",
    "split_datetime = split_datetime[1].str.rsplit(\" \", n=1, expand=True)\n",
    "split_datetime.head()"
   ]
  },
  {
   "cell_type": "code",
   "execution_count": null,
   "metadata": {},
   "outputs": [],
   "source": [
    "sighting_year = split_datetime.groupby([0]).count()\n",
    "sighting_year = sighting_year.astype(float)\n",
    "\n",
    "sighting_year.cumsum()\n",
    "sighting_year.plot(color='Chartreuse', linestyle='-.', linewidth=5)\n",
    "plt.xlabel('Year', fontsize=18)\n",
    "plt.ylabel('Number of Sightings', fontsize=18)\n"
   ]
  },
  {
   "cell_type": "code",
   "execution_count": null,
   "metadata": {},
   "outputs": [],
   "source": []
  }
 ],
 "metadata": {
  "kernelspec": {
   "display_name": "Python 3",
   "language": "python",
   "name": "python3"
  },
  "language_info": {
   "codemirror_mode": {
    "name": "ipython",
    "version": 3
   },
   "file_extension": ".py",
   "mimetype": "text/x-python",
   "name": "python",
   "nbconvert_exporter": "python",
   "pygments_lexer": "ipython3",
   "version": "3.7.3"
  }
 },
 "nbformat": 4,
 "nbformat_minor": 2
}
